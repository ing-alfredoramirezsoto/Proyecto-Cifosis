{
 "cells": [
  {
   "cell_type": "markdown",
   "source": [
    "# PROYECTO: Análisis Exploratorio de Datos (EDA) Básico (Cifosis)"
   ],
   "metadata": {
    "collapsed": false
   },
   "id": "38076544165e713f"
  },
  {
   "cell_type": "markdown",
   "source": [
    "- En este proyecto, realizaremos un Análisis Exploratorio de Datos (EDA) básico sobre el conjunto de datos de la enfermedad cifosis.\n",
    "- La cifosis es una curvatura convexa anormalmente excesiva de la columna vertebral.\n",
    "- El conjunto de datos contiene 81 filas y 4 columnas que representan datos sobre niños que se han sometido a cirugía correctiva de la columna vertebral.\n",
    "    - ENTRADAS: 1. Age: en meses, 2. Number: el número de vértebras afectadas, 3. Start: el número de la primera vértebra (la más alta) operada.\n",
    "    - SALIDAS: Kyphosis que representa un factor con niveles ausentes presentes que indica si se presentó una cifosis (un tipo de deformación) después de la operación."
   ],
   "metadata": {
    "collapsed": false
   },
   "id": "888fdb8140c32fb4"
  },
  {
   "cell_type": "code",
   "execution_count": 1,
   "id": "initial_id",
   "metadata": {
    "collapsed": true,
    "ExecuteTime": {
     "end_time": "2023-09-19T20:03:23.125824300Z",
     "start_time": "2023-09-19T20:03:23.125824300Z"
    }
   },
   "outputs": [],
   "source": [
    "# Importamos las librerías necesarias\n",
    "import pandas as pd\n",
    "import seaborn as sns\n",
    "import matplotlib.pyplot as plt"
   ]
  },
  {
   "cell_type": "code",
   "execution_count": 2,
   "outputs": [],
   "source": [
    "# Cargamos el conjunto de datos\n",
    "dfKyphosis = pd.read_csv(\"kyphosis.csv\")"
   ],
   "metadata": {
    "collapsed": false,
    "ExecuteTime": {
     "end_time": "2023-09-19T20:03:23.142116500Z",
     "start_time": "2023-09-19T20:03:23.125824300Z"
    }
   },
   "id": "1dd786e2a38a3d34"
  },
  {
   "cell_type": "code",
   "execution_count": 3,
   "outputs": [
    {
     "data": {
      "text/plain": "  Kyphosis  Age  Number  Start\n0   absent   71       3      5\n1   absent  158       3     14\n2  present  128       4      5\n3   absent    2       5      1\n4   absent    1       4     15\n5   absent    1       2     16\n6   absent   61       2     17\n7   absent   37       3     16\n8   absent  113       2     16\n9  present   59       6     12",
      "text/html": "<div>\n<style scoped>\n    .dataframe tbody tr th:only-of-type {\n        vertical-align: middle;\n    }\n\n    .dataframe tbody tr th {\n        vertical-align: top;\n    }\n\n    .dataframe thead th {\n        text-align: right;\n    }\n</style>\n<table border=\"1\" class=\"dataframe\">\n  <thead>\n    <tr style=\"text-align: right;\">\n      <th></th>\n      <th>Kyphosis</th>\n      <th>Age</th>\n      <th>Number</th>\n      <th>Start</th>\n    </tr>\n  </thead>\n  <tbody>\n    <tr>\n      <th>0</th>\n      <td>absent</td>\n      <td>71</td>\n      <td>3</td>\n      <td>5</td>\n    </tr>\n    <tr>\n      <th>1</th>\n      <td>absent</td>\n      <td>158</td>\n      <td>3</td>\n      <td>14</td>\n    </tr>\n    <tr>\n      <th>2</th>\n      <td>present</td>\n      <td>128</td>\n      <td>4</td>\n      <td>5</td>\n    </tr>\n    <tr>\n      <th>3</th>\n      <td>absent</td>\n      <td>2</td>\n      <td>5</td>\n      <td>1</td>\n    </tr>\n    <tr>\n      <th>4</th>\n      <td>absent</td>\n      <td>1</td>\n      <td>4</td>\n      <td>15</td>\n    </tr>\n    <tr>\n      <th>5</th>\n      <td>absent</td>\n      <td>1</td>\n      <td>2</td>\n      <td>16</td>\n    </tr>\n    <tr>\n      <th>6</th>\n      <td>absent</td>\n      <td>61</td>\n      <td>2</td>\n      <td>17</td>\n    </tr>\n    <tr>\n      <th>7</th>\n      <td>absent</td>\n      <td>37</td>\n      <td>3</td>\n      <td>16</td>\n    </tr>\n    <tr>\n      <th>8</th>\n      <td>absent</td>\n      <td>113</td>\n      <td>2</td>\n      <td>16</td>\n    </tr>\n    <tr>\n      <th>9</th>\n      <td>present</td>\n      <td>59</td>\n      <td>6</td>\n      <td>12</td>\n    </tr>\n  </tbody>\n</table>\n</div>"
     },
     "execution_count": 3,
     "metadata": {},
     "output_type": "execute_result"
    }
   ],
   "source": [
    "# Visualizamos las primeras 10 filas\n",
    "dfKyphosis.head(10)"
   ],
   "metadata": {
    "collapsed": false,
    "ExecuteTime": {
     "end_time": "2023-09-19T20:03:23.252596500Z",
     "start_time": "2023-09-19T20:03:23.142116500Z"
    }
   },
   "id": "919dedbb6d9e6d94"
  },
  {
   "cell_type": "code",
   "execution_count": 4,
   "outputs": [
    {
     "data": {
      "text/plain": "   Kyphosis  Age  Number  Start\n76  present  157       3     13\n77   absent   26       7     13\n78   absent  120       2     13\n79  present   42       7      6\n80   absent   36       4     13",
      "text/html": "<div>\n<style scoped>\n    .dataframe tbody tr th:only-of-type {\n        vertical-align: middle;\n    }\n\n    .dataframe tbody tr th {\n        vertical-align: top;\n    }\n\n    .dataframe thead th {\n        text-align: right;\n    }\n</style>\n<table border=\"1\" class=\"dataframe\">\n  <thead>\n    <tr style=\"text-align: right;\">\n      <th></th>\n      <th>Kyphosis</th>\n      <th>Age</th>\n      <th>Number</th>\n      <th>Start</th>\n    </tr>\n  </thead>\n  <tbody>\n    <tr>\n      <th>76</th>\n      <td>present</td>\n      <td>157</td>\n      <td>3</td>\n      <td>13</td>\n    </tr>\n    <tr>\n      <th>77</th>\n      <td>absent</td>\n      <td>26</td>\n      <td>7</td>\n      <td>13</td>\n    </tr>\n    <tr>\n      <th>78</th>\n      <td>absent</td>\n      <td>120</td>\n      <td>2</td>\n      <td>13</td>\n    </tr>\n    <tr>\n      <th>79</th>\n      <td>present</td>\n      <td>42</td>\n      <td>7</td>\n      <td>6</td>\n    </tr>\n    <tr>\n      <th>80</th>\n      <td>absent</td>\n      <td>36</td>\n      <td>4</td>\n      <td>13</td>\n    </tr>\n  </tbody>\n</table>\n</div>"
     },
     "execution_count": 4,
     "metadata": {},
     "output_type": "execute_result"
    }
   ],
   "source": [
    "# Visualizamos las últimas 5 filas\n",
    "dfKyphosis.tail()"
   ],
   "metadata": {
    "collapsed": false,
    "ExecuteTime": {
     "end_time": "2023-09-19T20:03:23.252596500Z",
     "start_time": "2023-09-19T20:03:23.163622300Z"
    }
   },
   "id": "39077a55de7a18e1"
  },
  {
   "cell_type": "code",
   "execution_count": 5,
   "outputs": [
    {
     "data": {
      "text/plain": "              Age     Number      Start\ncount   81.000000  81.000000  81.000000\nmean    83.654321   4.049383  11.493827\nstd     58.104251   1.619423   4.883962\nmin      1.000000   2.000000   1.000000\n25%     26.000000   3.000000   9.000000\n50%     87.000000   4.000000  13.000000\n75%    130.000000   5.000000  16.000000\nmax    206.000000  10.000000  18.000000",
      "text/html": "<div>\n<style scoped>\n    .dataframe tbody tr th:only-of-type {\n        vertical-align: middle;\n    }\n\n    .dataframe tbody tr th {\n        vertical-align: top;\n    }\n\n    .dataframe thead th {\n        text-align: right;\n    }\n</style>\n<table border=\"1\" class=\"dataframe\">\n  <thead>\n    <tr style=\"text-align: right;\">\n      <th></th>\n      <th>Age</th>\n      <th>Number</th>\n      <th>Start</th>\n    </tr>\n  </thead>\n  <tbody>\n    <tr>\n      <th>count</th>\n      <td>81.000000</td>\n      <td>81.000000</td>\n      <td>81.000000</td>\n    </tr>\n    <tr>\n      <th>mean</th>\n      <td>83.654321</td>\n      <td>4.049383</td>\n      <td>11.493827</td>\n    </tr>\n    <tr>\n      <th>std</th>\n      <td>58.104251</td>\n      <td>1.619423</td>\n      <td>4.883962</td>\n    </tr>\n    <tr>\n      <th>min</th>\n      <td>1.000000</td>\n      <td>2.000000</td>\n      <td>1.000000</td>\n    </tr>\n    <tr>\n      <th>25%</th>\n      <td>26.000000</td>\n      <td>3.000000</td>\n      <td>9.000000</td>\n    </tr>\n    <tr>\n      <th>50%</th>\n      <td>87.000000</td>\n      <td>4.000000</td>\n      <td>13.000000</td>\n    </tr>\n    <tr>\n      <th>75%</th>\n      <td>130.000000</td>\n      <td>5.000000</td>\n      <td>16.000000</td>\n    </tr>\n    <tr>\n      <th>max</th>\n      <td>206.000000</td>\n      <td>10.000000</td>\n      <td>18.000000</td>\n    </tr>\n  </tbody>\n</table>\n</div>"
     },
     "execution_count": 5,
     "metadata": {},
     "output_type": "execute_result"
    }
   ],
   "source": [
    "# Visualizamos estadísticas descriptivas\n",
    "dfKyphosis.describe()"
   ],
   "metadata": {
    "collapsed": false,
    "ExecuteTime": {
     "end_time": "2023-09-19T20:03:23.252596500Z",
     "start_time": "2023-09-19T20:03:23.176236900Z"
    }
   },
   "id": "250ca73e286a94c7"
  },
  {
   "cell_type": "code",
   "execution_count": 6,
   "outputs": [
    {
     "data": {
      "text/plain": "6.97119341563786"
     },
     "execution_count": 6,
     "metadata": {},
     "output_type": "execute_result"
    }
   ],
   "source": [
    "# Obtenemos la edad promedio de los niños en años\n",
    "dfKyphosis[\"Age\"].mean()/12"
   ],
   "metadata": {
    "collapsed": false,
    "ExecuteTime": {
     "end_time": "2023-09-19T20:03:23.252596500Z",
     "start_time": "2023-09-19T20:03:23.196509Z"
    }
   },
   "id": "62f0f120096b9eac"
  },
  {
   "cell_type": "code",
   "execution_count": 7,
   "outputs": [
    {
     "data": {
      "text/plain": "0.08333333333333333"
     },
     "execution_count": 7,
     "metadata": {},
     "output_type": "execute_result"
    }
   ],
   "source": [
    "# Obtenemos la edad minima de los niños en años\n",
    "dfKyphosis[\"Age\"].min()/12"
   ],
   "metadata": {
    "collapsed": false,
    "ExecuteTime": {
     "end_time": "2023-09-19T20:03:23.252596500Z",
     "start_time": "2023-09-19T20:03:23.204992700Z"
    }
   },
   "id": "50d9e2d099ef1443"
  },
  {
   "cell_type": "code",
   "execution_count": 8,
   "outputs": [
    {
     "data": {
      "text/plain": "17.166666666666668"
     },
     "execution_count": 8,
     "metadata": {},
     "output_type": "execute_result"
    }
   ],
   "source": [
    "# Obtenemos la edad máxima de los niños en años\n",
    "dfKyphosis[\"Age\"].max()/12"
   ],
   "metadata": {
    "collapsed": false,
    "ExecuteTime": {
     "end_time": "2023-09-19T20:03:23.366568900Z",
     "start_time": "2023-09-19T20:03:23.211728100Z"
    }
   },
   "id": "3c00f36d3d87f8b4"
  },
  {
   "cell_type": "code",
   "execution_count": 9,
   "outputs": [
    {
     "data": {
      "text/plain": "Kyphosis    0\nAge         0\nNumber      0\nStart       0\ndtype: int64"
     },
     "execution_count": 9,
     "metadata": {},
     "output_type": "execute_result"
    }
   ],
   "source": [
    "# Verificamos si hay valores nulos\n",
    "dfKyphosis.isnull().sum()"
   ],
   "metadata": {
    "collapsed": false,
    "ExecuteTime": {
     "end_time": "2023-09-19T20:03:23.366568900Z",
     "start_time": "2023-09-19T20:03:23.221078600Z"
    }
   },
   "id": "b3648356c83a22fa"
  },
  {
   "cell_type": "code",
   "execution_count": 10,
   "outputs": [
    {
     "data": {
      "text/plain": "<Axes: >"
     },
     "execution_count": 10,
     "metadata": {},
     "output_type": "execute_result"
    },
    {
     "data": {
      "text/plain": "<Figure size 640x480 with 2 Axes>",
      "image/png": "[encoded data removed]"
     },
     "metadata": {},
     "output_type": "display_data"
    }
   ],
   "source": [
    "# Visualizamos un mapa de calor de correlación\n",
    "sns.heatmap(dfKyphosis.corr(numeric_only=True), annot=True)"
   ],
   "metadata": {
    "collapsed": false,
    "ExecuteTime": {
     "end_time": "2023-09-19T20:03:23.951428900Z",
     "start_time": "2023-09-19T20:03:23.228444Z"
    }
   },
   "id": "8e34d8cbff6731e7"
  }
 ],
 "metadata": {
  "kernelspec": {
   "display_name": "Python 3",
   "language": "python",
   "name": "python3"
  },
  "language_info": {
   "codemirror_mode": {
    "name": "ipython",
    "version": 2
   },
   "file_extension": ".py",
   "mimetype": "text/x-python",
   "name": "python",
   "nbconvert_exporter": "python",
   "pygments_lexer": "ipython2",
   "version": "2.7.6"
  }
 },
 "nbformat": 4,
 "nbformat_minor": 5
}
